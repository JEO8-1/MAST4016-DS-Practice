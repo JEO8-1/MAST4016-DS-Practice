{
 "cells": [
  {
   "cell_type": "markdown",
   "id": "0202b12f",
   "metadata": {},
   "source": [
    "# MAST4016 Data Science Practice"
   ]
  },
  {
   "cell_type": "markdown",
   "id": "87a6cd92",
   "metadata": {},
   "source": [
    "## Week 2: Data Cleaning and Preprocessing in Python"
   ]
  },
  {
   "cell_type": "markdown",
   "id": "8a9dc247",
   "metadata": {},
   "source": [
    "This week you'll be learning key data science skills: data cleaning and preprocessing.\n",
    "\n",
    "If you work as a data scientist, you're likely to be given a dataset and be asked to analyse it. You won't necessarily know much about where the dataset has come from and even if you do, you may not be sure whether it contains errors or not. If you don't clean your data, the results from your analyses may not be useful.\n",
    "\n",
    "As we'll see, sometimes the errors will be obvious. At other times, it won't be clear and you may need to judge whether there's a problem with the data or not. Here, you may need to consult other people."
   ]
  },
  {
   "cell_type": "markdown",
   "id": "066c0545",
   "metadata": {},
   "source": [
    "### Simple example\n",
    "\n",
    "Imagine that we have a dataset that we know is on ages, but we don't have any other details."
   ]
  },
  {
   "cell_type": "code",
   "execution_count": 1,
   "id": "963e8942",
   "metadata": {},
   "outputs": [],
   "source": [
    "ages = [5, 0.25, -99, 167]"
   ]
  },
  {
   "cell_type": "markdown",
   "id": "044ec030",
   "metadata": {},
   "source": [
    "Here, we know for sure that we can't have a negative age because that doesn't make sense. We should remove that data point.\n",
    "\n",
    "We need to consider what data type our ages are stored in. In this case, we see that we have square brackets, so this is a list in Python. Lists are ordered and each value has an index which starts at 0. In this case, there are four values, so the final index is 3.\n",
    "\n",
    "We can remove the negative entry using the code below."
   ]
  },
  {
   "cell_type": "code",
   "execution_count": 3,
   "id": "08e6f57e",
   "metadata": {},
   "outputs": [
    {
     "data": {
      "text/plain": [
       "[5, 0.25, 167]"
      ]
     },
     "execution_count": 3,
     "metadata": {},
     "output_type": "execute_result"
    }
   ],
   "source": [
    "del ages[2]\n",
    "ages"
   ]
  },
  {
   "cell_type": "markdown",
   "id": "62828f35",
   "metadata": {},
   "source": [
    "<span style=\"color:blue\">Task 1: Now you need to consider the rest of the data. Discuss what your views are: should you remove anything else?</span>"
   ]
  },
  {
   "cell_type": "markdown",
   "id": "79ffac29",
   "metadata": {},
   "source": [
    "We should remove continuous data, that being 0.25, as it is inappropriate to use with the context of this data."
   ]
  },
  {
   "cell_type": "markdown",
   "id": "66683a41",
   "metadata": {},
   "source": []
  },
  {
   "cell_type": "markdown",
   "id": "d55bd1bf",
   "metadata": {},
   "source": [
    "### Second example\n",
    "\n",
    "For the data below, you are told that the ages are in years and are for tortoises. <span style=\"color:blue\">Task 2: Carry out similar data cleaning and calculate the mean age for the tortoises with plausible values. You may need to do a search on how to calculate a mean in Python.</span>"
   ]
  },
  {
   "cell_type": "code",
   "execution_count": 8,
   "id": "ec68fd4c",
   "metadata": {},
   "outputs": [
    {
     "data": {
      "text/plain": [
       "[105, 52, 12]"
      ]
     },
     "execution_count": 8,
     "metadata": {},
     "output_type": "execute_result"
    }
   ],
   "source": [
    "tortoises = [-9, -0.01, 105, 2250, 52, 12, -999]\n",
    "del tortoises[0]\n",
    "del tortoises[0]\n",
    "del tortoises[-1]\n",
    "del tortoises[1]\n",
    "tortoises"
   ]
  },
  {
   "cell_type": "code",
   "execution_count": 12,
   "id": "453357ff",
   "metadata": {},
   "outputs": [
    {
     "data": {
      "text/plain": [
       "56.333333333333336"
      ]
     },
     "execution_count": 12,
     "metadata": {},
     "output_type": "execute_result"
    }
   ],
   "source": [
    "mean = sum(tortoises)/len(tortoises)\n",
    "mean"
   ]
  },
  {
   "cell_type": "markdown",
   "id": "c0781a7a",
   "metadata": {},
   "source": [
    "#### Optional task\n",
    "\n",
    "Use a search engine to find out which formats the data below are stored in. Also find out how to convert these data to a more familiar format."
   ]
  },
  {
   "cell_type": "code",
   "execution_count": 14,
   "id": "f5b9a592",
   "metadata": {},
   "outputs": [
    {
     "data": {
      "text/plain": [
       "31"
      ]
     },
     "execution_count": 14,
     "metadata": {},
     "output_type": "execute_result"
    }
   ],
   "source": [
    "test1 = '0x1F'\n",
    "test1\n",
    "solution1 = (1*16)+(15*1)\n",
    "solution1"
   ]
  },
  {
   "cell_type": "code",
   "execution_count": 15,
   "id": "bf050fe1",
   "metadata": {},
   "outputs": [
    {
     "data": {
      "text/plain": [
       "49"
      ]
     },
     "execution_count": 15,
     "metadata": {},
     "output_type": "execute_result"
    }
   ],
   "source": [
    "test2 = '0x31'\n",
    "test2\n",
    "solution2 = (3*16)+(1*1)\n",
    "solution2"
   ]
  },
  {
   "cell_type": "code",
   "execution_count": 48,
   "id": "c56df8a0",
   "metadata": {},
   "outputs": [
    {
     "data": {
      "text/plain": [
       "120"
      ]
     },
     "execution_count": 48,
     "metadata": {},
     "output_type": "execute_result"
    }
   ],
   "source": [
    "test3 = '0b101110111'\n",
    "test3\n",
    "solution3 = 120\n",
    "solution3"
   ]
  },
  {
   "cell_type": "code",
   "execution_count": 54,
   "id": "042899c8",
   "metadata": {},
   "outputs": [
    {
     "data": {
      "text/plain": [
       "476261"
      ]
     },
     "execution_count": 54,
     "metadata": {},
     "output_type": "execute_result"
    }
   ],
   "source": [
    "test4 = '0o1642145'\n",
    "test4\n",
    "solution4 = (1*8**6)+(6*8**5)+(4*8**4)+(2*8**3)+(1*8**2)+(4*8**1)+(5*8**0)\n",
    "solution4"
   ]
  },
  {
   "cell_type": "markdown",
   "id": "beefe4e3",
   "metadata": {},
   "source": [
    "### Strings in Python\n",
    "\n",
    "Data can also be stored as strings in Python. These are quite straightforward as you will see below. \n",
    "\n",
    "You can access particular parts of strings using their index. Don't forget that in Python the index starts at zero! In this case, if we want to remove the 'xxx' below, we can extract a slice of str1. This slice starts at the 5th entry (which has the index 4) and goes up to but not including the 11th entry, which has the index 10."
   ]
  },
  {
   "cell_type": "code",
   "execution_count": 54,
   "id": "a31e16c7",
   "metadata": {},
   "outputs": [
    {
     "data": {
      "text/plain": [
       "'abcdef'"
      ]
     },
     "execution_count": 54,
     "metadata": {},
     "output_type": "execute_result"
    }
   ],
   "source": [
    "str1 = \"xxxxabcdefxxxx\"\n",
    "str1[4:10]"
   ]
  },
  {
   "cell_type": "markdown",
   "id": "958b99d8",
   "metadata": {},
   "source": [
    "A slice can also include steps as a third value as shown below. In this case, we start at the 5th entry and then go forwards in steps of two until we reach the 16th entry which isn't included."
   ]
  },
  {
   "cell_type": "code",
   "execution_count": 68,
   "id": "1d6cbebf",
   "metadata": {},
   "outputs": [
    {
     "data": {
      "text/plain": [
       "'abcdef'"
      ]
     },
     "execution_count": 68,
     "metadata": {},
     "output_type": "execute_result"
    }
   ],
   "source": [
    "str2 = 'xxxxaxbxcxdxexfxxx'\n",
    "str2[4:15:2]"
   ]
  },
  {
   "cell_type": "markdown",
   "id": "c14036d3",
   "metadata": {},
   "source": [
    "<span style=\"color:blue\">Task 4: Now you need to write code to clean the data by removing the 'x' characters in the examples below.</span>\n",
    "\n",
    "<span style=\"color:blue\">(Extra challenge: convert the cleaned data to integer format.)</span>"
   ]
  },
  {
   "cell_type": "code",
   "execution_count": 16,
   "id": "5ddd6b5a",
   "metadata": {},
   "outputs": [
    {
     "data": {
      "text/plain": [
       "'123'"
      ]
     },
     "execution_count": 16,
     "metadata": {},
     "output_type": "execute_result"
    }
   ],
   "source": [
    "str3 = \"xxxxxx123xx\"\n",
    "str3[6:9]"
   ]
  },
  {
   "cell_type": "code",
   "execution_count": 3,
   "id": "021627af",
   "metadata": {},
   "outputs": [
    {
     "data": {
      "text/plain": [
       "'12345'"
      ]
     },
     "execution_count": 3,
     "metadata": {},
     "output_type": "execute_result"
    }
   ],
   "source": [
    "str4 = '12345xxxx'\n",
    "str4[0:5]"
   ]
  },
  {
   "cell_type": "code",
   "execution_count": 4,
   "id": "b13e762a",
   "metadata": {},
   "outputs": [
    {
     "data": {
      "text/plain": [
       "'123'"
      ]
     },
     "execution_count": 4,
     "metadata": {},
     "output_type": "execute_result"
    }
   ],
   "source": [
    "str5 = \"xx1xx2xx3xxxx\"\n",
    "str5[2:9:3]"
   ]
  },
  {
   "cell_type": "code",
   "execution_count": 5,
   "id": "f6e9b64f",
   "metadata": {},
   "outputs": [
    {
     "data": {
      "text/plain": [
       "'12345'"
      ]
     },
     "execution_count": 5,
     "metadata": {},
     "output_type": "execute_result"
    }
   ],
   "source": [
    "str6 = 'xxx1x2x3x4x5'\n",
    "str6[3::2]"
   ]
  },
  {
   "cell_type": "code",
   "execution_count": 13,
   "id": "6ce575b6",
   "metadata": {},
   "outputs": [
    {
     "data": {
      "text/plain": [
       "'123'"
      ]
     },
     "execution_count": 13,
     "metadata": {},
     "output_type": "execute_result"
    }
   ],
   "source": [
    "str7 = 'xxxx1xxx2xxx3xxxxx'\n",
    "str7[4:13:4]"
   ]
  },
  {
   "cell_type": "code",
   "execution_count": 14,
   "id": "2cd5a5ed",
   "metadata": {},
   "outputs": [
    {
     "data": {
      "text/plain": [
       "'1234567'"
      ]
     },
     "execution_count": 14,
     "metadata": {},
     "output_type": "execute_result"
    }
   ],
   "source": [
    "str8 = \"x1x2x3x4x5x6x7\"\n",
    "str8[1::2]"
   ]
  },
  {
   "cell_type": "markdown",
   "id": "c48e4a46",
   "metadata": {},
   "source": [
    "## Lists\n",
    "\n",
    "In Python, we will want to work with more complex data types than just numbers or strings. There are various data types in Python that allow us to store multiple numbers, strings, or both. They have different characteristics and need to be handled in different ways.\n",
    "\n",
    "We can create a list using square brackets as in the example below. Each entry in a list has an index, again starting with zero. We are likely to want to clean lists by removing particular entries."
   ]
  },
  {
   "cell_type": "code",
   "execution_count": 63,
   "id": "9715e912",
   "metadata": {},
   "outputs": [
    {
     "data": {
      "text/plain": [
       "3"
      ]
     },
     "execution_count": 63,
     "metadata": {},
     "output_type": "execute_result"
    }
   ],
   "source": [
    "list1 = [1, 'abc', 3, 5]\n",
    "list1[2]"
   ]
  },
  {
   "cell_type": "markdown",
   "id": "da4b8b4b",
   "metadata": {},
   "source": [
    "The strings in our list also have their own index, so we can extract a string from a list and then part of the string."
   ]
  },
  {
   "cell_type": "code",
   "execution_count": 64,
   "id": "a493fa98",
   "metadata": {},
   "outputs": [
    {
     "data": {
      "text/plain": [
       "'bc'"
      ]
     },
     "execution_count": 64,
     "metadata": {},
     "output_type": "execute_result"
    }
   ],
   "source": [
    "list1[1][1:3]"
   ]
  },
  {
   "cell_type": "markdown",
   "id": "e7e45ee5",
   "metadata": {},
   "source": [
    "We can also change part of the list using code like that below."
   ]
  },
  {
   "cell_type": "code",
   "execution_count": 65,
   "id": "29ae0fb7",
   "metadata": {},
   "outputs": [
    {
     "data": {
      "text/plain": [
       "[1, 'abc', 'replaced!', 5]"
      ]
     },
     "execution_count": 65,
     "metadata": {},
     "output_type": "execute_result"
    }
   ],
   "source": [
    "list1[2] = 'replaced!'\n",
    "list1"
   ]
  },
  {
   "cell_type": "markdown",
   "id": "971bd94e",
   "metadata": {},
   "source": [
    "We can copy our lists and then make changes to the copies."
   ]
  },
  {
   "cell_type": "code",
   "execution_count": 66,
   "id": "29b7dbc8",
   "metadata": {},
   "outputs": [
    {
     "data": {
      "text/plain": [
       "['also replaced!', 'abc', 'replaced!', 5]"
      ]
     },
     "execution_count": 66,
     "metadata": {},
     "output_type": "execute_result"
    }
   ],
   "source": [
    "list2 = list1\n",
    "list2[0] = \"also replaced!\"\n",
    "list2"
   ]
  },
  {
   "cell_type": "markdown",
   "id": "13a11d5f",
   "metadata": {},
   "source": [
    "**For lists, this also changes the original list!! You need to be careful when making changes to lists in Python!**"
   ]
  },
  {
   "cell_type": "code",
   "execution_count": 67,
   "id": "07a7c66c",
   "metadata": {},
   "outputs": [
    {
     "data": {
      "text/plain": [
       "['also replaced!', 'abc', 'replaced!', 5]"
      ]
     },
     "execution_count": 67,
     "metadata": {},
     "output_type": "execute_result"
    }
   ],
   "source": [
    "list1"
   ]
  },
  {
   "cell_type": "markdown",
   "id": "1786f721",
   "metadata": {},
   "source": [
    "<span style=\"color:blue\">Task 5: For the examples below, clean the data by removing the 'x' characters.</span> \n",
    "\n",
    "<span style=\"color:blue\">Challenging: calculate the mean value for each list.</span>"
   ]
  },
  {
   "cell_type": "code",
   "execution_count": 46,
   "id": "d0c3d20c",
   "metadata": {},
   "outputs": [
    {
     "name": "stdout",
     "output_type": "stream",
     "text": [
      "['123', '456', '1264', '456']\n",
      "574.75\n",
      "[1356.0, 5.75, 1.23, 3.573]\n",
      "341.25\n",
      "['123', '953', '31']\n",
      "369.0\n",
      "[145741.0, 3.57, 1245.0]\n",
      "48996.333333333336\n"
     ]
    }
   ],
   "source": [
    "example1 = [123, 'xx456', '1264', 'x4x5x6']\n",
    "cleaned1 = [str(number).replace('x','') for number in example1]\n",
    "print(cleaned1)\n",
    "integers1 = [int(number) for number in cleaned1]\n",
    "mean_value1 = sum(integers1)/len(integers1)\n",
    "print(mean_value1)\n",
    "\n",
    "\n",
    "example2 = ['1xxx3xxx5xxx6', 5.75, 1.23, 'x3.573']\n",
    "cleaned2 = [float(str(number).replace('x','')) for number in example2]\n",
    "print(cleaned2)\n",
    "integers2 = [int(number) for number in cleaned2]\n",
    "mean_value2 = sum(integers2)/len(integers2)\n",
    "print(mean_value2)\n",
    "\n",
    "example3 = ['xx123xxxx', 953, 0x1F]\n",
    "cleaned3 = [str(number).replace('x','') for number in example3]\n",
    "print(cleaned3)\n",
    "integers3 = [int(number) for number in cleaned3]\n",
    "mean_value3 = sum(integers3)/len(integers3)\n",
    "print(mean_value3)\n",
    "\n",
    "example4 = ['xx14xx57xx41', 3.57, 1245]\n",
    "cleaned4 = [float(str(number).replace('x','')) for number in example4]\n",
    "print(cleaned4)\n",
    "integers4 = [int(number) for number in cleaned4]\n",
    "mean_value4 = sum(integers4)/len(integers4)\n",
    "print(mean_value4)"
   ]
  },
  {
   "cell_type": "markdown",
   "id": "11d1c09c",
   "metadata": {},
   "source": [
    "<span style=\"color:blue\">Task 6: As a final test on lists, calculate the mean value for example5 but without using the text 'example5'!</span>"
   ]
  },
  {
   "cell_type": "code",
   "execution_count": 47,
   "id": "1d804b92",
   "metadata": {},
   "outputs": [
    {
     "name": "stdout",
     "output_type": "stream",
     "text": [
      "[456.0, 1.35, 135.0]\n",
      "48996.333333333336\n"
     ]
    }
   ],
   "source": [
    "example5 = [456, 1.35, 'x1x3x5']\n",
    "example6 = example5\n",
    "\n",
    "cleaned6 = [float(str(number).replace('x','')) for number in example6]\n",
    "print(cleaned6)\n",
    "integers6 = [int(number) for number in cleaned6]\n",
    "mean_value6 = sum(integers4)/len(integers6)\n",
    "print(mean_value6)"
   ]
  },
  {
   "cell_type": "markdown",
   "id": "3d829457",
   "metadata": {},
   "source": [
    "## Tuples\n",
    "\n",
    "Tuples are similar to lists but are created using parentheses rather than square brackets."
   ]
  },
  {
   "cell_type": "code",
   "execution_count": 79,
   "id": "521b3171",
   "metadata": {},
   "outputs": [],
   "source": [
    "tuple1 = (1, 'abc', 3, 5)"
   ]
  },
  {
   "cell_type": "markdown",
   "id": "1914b0f3",
   "metadata": {},
   "source": [
    "Tuples are **immutable**, as shown below. This behaviour is different from lists."
   ]
  },
  {
   "cell_type": "code",
   "execution_count": 81,
   "id": "9319b240",
   "metadata": {},
   "outputs": [
    {
     "ename": "TypeError",
     "evalue": "'tuple' object does not support item assignment",
     "output_type": "error",
     "traceback": [
      "\u001b[0;31m---------------------------------------------------------------------------\u001b[0m",
      "\u001b[0;31mTypeError\u001b[0m                                 Traceback (most recent call last)",
      "Cell \u001b[0;32mIn[81], line 1\u001b[0m\n\u001b[0;32m----> 1\u001b[0m tuple1[\u001b[38;5;241m2\u001b[39m] \u001b[38;5;241m=\u001b[39m \u001b[38;5;124m'\u001b[39m\u001b[38;5;124mattempted change!\u001b[39m\u001b[38;5;124m'\u001b[39m\n",
      "\u001b[0;31mTypeError\u001b[0m: 'tuple' object does not support item assignment"
     ]
    }
   ],
   "source": [
    "tuple1[2] = 'attempted change!'"
   ]
  },
  {
   "cell_type": "markdown",
   "id": "b69b5c9a",
   "metadata": {},
   "source": [
    "We have to convert the tuple to a list then make the change then convert it back to a tuple"
   ]
  },
  {
   "cell_type": "code",
   "execution_count": 82,
   "id": "a32cd1fb",
   "metadata": {},
   "outputs": [
    {
     "data": {
      "text/plain": [
       "(1, 'abc', 'change!', 5)"
      ]
     },
     "execution_count": 82,
     "metadata": {},
     "output_type": "execute_result"
    }
   ],
   "source": [
    "temp = list(tuple1)\n",
    "temp[2] = 'change!'\n",
    "tuple1 = tuple(temp)\n",
    "tuple1"
   ]
  },
  {
   "cell_type": "markdown",
   "id": "6c2b9163",
   "metadata": {},
   "source": [
    "<span style=\"color:blue\">Task 7: Clean the tuples below by removing the 'x' characters.</span>"
   ]
  },
  {
   "cell_type": "code",
   "execution_count": 59,
   "id": "d46ab35e",
   "metadata": {
    "scrolled": true
   },
   "outputs": [
    {
     "name": "stdout",
     "output_type": "stream",
     "text": [
      "('123', '456', '1264', '456')\n",
      "('1356', '5.75', '1.23', '3.573')\n",
      "('123', '953', '31')\n",
      "('145741', '3.57', '1245')\n"
     ]
    }
   ],
   "source": [
    "tupleexample1 = (123, 'xx456', '1264', 'x4x5x6')\n",
    "list1 = list(tupleexample1)\n",
    "removed1 = [str(number).replace('x','') for number in list1]\n",
    "tupleexample1 = tuple(removed1)\n",
    "print(tupleexample1)\n",
    "\n",
    "tupleexample2 = ('1xxx3xxx5xxx6', 5.75, 1.23, 'x3.573')\n",
    "list2 = list(tupleexample2)\n",
    "removed2 = [str(number).replace('x','') for number in list2]\n",
    "tupleexample2 = tuple(removed2)\n",
    "print(tupleexample2)\n",
    "\n",
    "tupleexample3 = ('xx123xxxx', 953, 0x1F)\n",
    "list3 = list(tupleexample3)\n",
    "removed3 = [str(number).replace('x','') for number in list3]\n",
    "tupleexample3 = tuple(removed3)\n",
    "print(tupleexample3)\n",
    "\n",
    "tupleexample4 = ('xx14xx57xx41', 3.57, 1245)\n",
    "list4 = list(tupleexample4)\n",
    "removed4 = [str(number).replace('x','') for number in list4]\n",
    "tupleexample4 = tuple(removed4)\n",
    "print(tupleexample4)"
   ]
  },
  {
   "cell_type": "markdown",
   "id": "d00707ac",
   "metadata": {},
   "source": [
    "## Dictionaries\n",
    "\n",
    "Dictionaries are another way for Python to store data. Dictionaries are mutable like lists but are not ordered. Instead they have **keys**. Dictionaries are created using curly brackets."
   ]
  },
  {
   "cell_type": "code",
   "execution_count": 84,
   "id": "7a3a5a6f",
   "metadata": {},
   "outputs": [
    {
     "data": {
      "text/plain": [
       "{'name': 'George', 'age': 57, 'eats': 'lettuce'}"
      ]
     },
     "execution_count": 84,
     "metadata": {},
     "output_type": "execute_result"
    }
   ],
   "source": [
    "tortoise = {'name': 'George', 'age': 57, 'eats': 'lettuce'}\n",
    "tortoise"
   ]
  },
  {
   "cell_type": "markdown",
   "id": "3996969d",
   "metadata": {},
   "source": [
    "The dictionary can be changed using code such as the below."
   ]
  },
  {
   "cell_type": "code",
   "execution_count": 87,
   "id": "59f6a342",
   "metadata": {},
   "outputs": [
    {
     "data": {
      "text/plain": [
       "{'name': 'Georgina', 'age': 57, 'eats': 'lettuce'}"
      ]
     },
     "execution_count": 87,
     "metadata": {},
     "output_type": "execute_result"
    }
   ],
   "source": [
    "tortoise['name'] = tortoise['name'][:5] + 'ina'\n",
    "tortoise"
   ]
  },
  {
   "cell_type": "markdown",
   "id": "de6d5cca",
   "metadata": {},
   "source": [
    "<span style=\"color:blue\">Task 8: Clean the dictionaries below by removing 'x' characters."
   ]
  },
  {
   "cell_type": "code",
   "execution_count": 1,
   "id": "9bc7d774",
   "metadata": {},
   "outputs": [
    {
     "name": "stdout",
     "output_type": "stream",
     "text": [
      "{'key1': '123', 'key2': '456', 'key3': '1264', 'key4': '456'}\n",
      "{'key1': '123', 'key2': '456', 'key3': '1264', 'key4': '456'}\n",
      "{'key1': '123', 'key2': '953', 'key3': '31'}\n",
      "{'key1': '145741', 'key3': '3.57', 'keyx': '1245'}\n"
     ]
    }
   ],
   "source": [
    "dictexample1 = {'key1': 123, 'key2':'xx456', 'key3':'1264', 'key4':'x4x5x6'}\n",
    "cleaned1 = {key: str(value).replace('x','') for key, value in dictexample1.items()}\n",
    "print(cleaned1)\n",
    "\n",
    "dictexample2 = {'key1': '1xxx3xxx5xxx6', 'key2':5.75, 'key3':1.23, 'key4':'x3.573'}\n",
    "cleaned1 = {key: str(value).replace('x','') for key, value in dictexample1.items()}\n",
    "print(cleaned1)\n",
    "\n",
    "dictexample3 = {'key1':'xx123xxxx', 'key2':953, 'key3':0x1F}\n",
    "cleaned3 = {key: str(value).replace('x','') for key, value in dictexample3.items()}\n",
    "print(cleaned3)\n",
    "\n",
    "dictexample4 = {'key1':'xx14xx57xx41', 'key3':3.57, 'keyx':1245}\n",
    "cleaned4 = {key: str(value).replace('x','') for key, value in dictexample4.items()}\n",
    "print(cleaned4)"
   ]
  },
  {
   "cell_type": "markdown",
   "id": "ae9bdbd3",
   "metadata": {},
   "source": [
    "## Github\n",
    "\n",
    "Now that you've completed this notebook, you should upload it to Github. Try to do this yourself but if you get stuck then please ask!"
   ]
  }
 ],
 "metadata": {
  "kernelspec": {
   "display_name": "Python 3 (ipykernel)",
   "language": "python",
   "name": "python3"
  },
  "language_info": {
   "codemirror_mode": {
    "name": "ipython",
    "version": 3
   },
   "file_extension": ".py",
   "mimetype": "text/x-python",
   "name": "python",
   "nbconvert_exporter": "python",
   "pygments_lexer": "ipython3",
   "version": "3.11.5"
  }
 },
 "nbformat": 4,
 "nbformat_minor": 5
}
